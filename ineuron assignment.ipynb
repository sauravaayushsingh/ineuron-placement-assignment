{
  "metadata": {
    "language_info": {
      "codemirror_mode": {
        "name": "python",
        "version": 3
      },
      "file_extension": ".py",
      "mimetype": "text/x-python",
      "name": "python",
      "nbconvert_exporter": "python",
      "pygments_lexer": "ipython3",
      "version": "3.8"
    },
    "kernelspec": {
      "name": "python",
      "display_name": "Pyolite",
      "language": "python"
    }
  },
  "nbformat_minor": 4,
  "nbformat": 4,
  "cells": [
    {
      "cell_type": "code",
      "source": "def main():\n    #creating a file and writing the original content\n    f=open(\"example.txt\", \"w+\")\n    f.write(\"This is a placement assignment\")\n    f.close()\n\nif __name__== \"__main__\":\n  main()",
      "metadata": {
        "trusted": true
      },
      "execution_count": 13,
      "outputs": []
    },
    {
      "cell_type": "code",
      "source": "import os\nimport sys\nimport fileinput\n#importing modules to use replace function\n\nexisting=\"placement\"\nreplaced=\"screening\"\ntempFile = open( \"example.txt\", 'r+' )\nfor line in fileinput.input(\"example.txt\"):\n    tempFile.write(line.replace( existing, replaced ) )\ntempFile.close()",
      "metadata": {
        "trusted": true
      },
      "execution_count": 14,
      "outputs": []
    },
    {
      "cell_type": "code",
      "source": "#printing the content\nf = open(\"example.txt\")\nfile_contents = f.read()\n\nprint(file_contents)",
      "metadata": {},
      "execution_count": null,
      "outputs": []
    },
    {
      "cell_type": "code",
      "source": "",
      "metadata": {},
      "execution_count": null,
      "outputs": []
    }
  ]
}