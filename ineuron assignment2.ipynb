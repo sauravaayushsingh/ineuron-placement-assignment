{
  "metadata": {
    "language_info": {
      "codemirror_mode": {
        "name": "python",
        "version": 3
      },
      "file_extension": ".py",
      "mimetype": "text/x-python",
      "name": "python",
      "nbconvert_exporter": "python",
      "pygments_lexer": "ipython3",
      "version": "3.8"
    },
    "kernelspec": {
      "name": "python",
      "display_name": "Pyolite",
      "language": "python"
    }
  },
  "nbformat_minor": 4,
  "nbformat": 4,
  "cells": [
    {
      "cell_type": "markdown",
      "source": "Introduction to Python Abstract Classes\nIn object-oriented programming, an abstract class is a class that cannot be instantiated. However, you can create classes that inherit from an abstract class.\n\nTypically, you use an abstract class to create a blueprint for other classes.\n\nSimilarly, an abstract method is an method without an implementation. An abstract class may or may not include abstract methods.\n\nPython doesn’t directly support abstract classes. But it does offer a module that allows you to define abstract classes.\n\nTo define an abstract class, you use the abc (abstract base class) module.\n\nThe abc module provides you with the infrastructure for defining abstract base classes.\n\n",
      "metadata": {}
    },
    {
      "cell_type": "code",
      "source": "from abc import ABC\n\n\nclass AbstractClassName(ABC):\n    pass",
      "metadata": {},
      "execution_count": null,
      "outputs": []
    },
    {
      "cell_type": "markdown",
      "source": "To define an abstract method, you use the @abstractmethod decorator:",
      "metadata": {}
    },
    {
      "cell_type": "code",
      "source": "from abc import ABC, abstractmethod\n\n\nclass AbstractClassName(ABC):\n    @abstractmethod\n    def abstract_method_name(self):\n        pass",
      "metadata": {
        "trusted": true
      },
      "execution_count": 2,
      "outputs": []
    },
    {
      "cell_type": "markdown",
      "source": "Python abstract class example\nSuppose that you need to develop a payroll program for a company.\n\nThe company has two groups of employees: full-time employees and hourly employees. The full-time employees get a fixed salary while the hourly employees get paid by hourly wages for their services.\n\nThe payroll program needs to print out a payroll that includes employee names and their monthly salaries.\n\nTo model the payroll program in an object-oriented way, you may come up with the following classes: Employee, FulltimeEmployee, HourlyEmployee, and Payroll.\n\nTo structure the program, we’ll use modules, where each class is placed in a separate module (or file).\n\nThe Employee class\nThe Employee class represents an employee, either full-time or hourly. The Employee class should be an abstract class because there’re only full-time employees and hourly employees, no general employees exist.\n\nThe Employee class should have a property that returns the full name of an employee. In addition, it should have a method that calculates salary. The method for calculating salary should be an abstract method.\n\nThe following defines the Employee abstract class:",
      "metadata": {}
    },
    {
      "cell_type": "code",
      "source": "from abc import ABC, abstractmethod\n\n\nclass Employee(ABC):\n    def __init__(self, first_name, last_name):\n        self.first_name = first_name\n        self.last_name = last_name\n\n    @property\n    def full_name(self):\n        return f\"{self.first_name} {self.last_name}\"\n\n    @abstractmethod\n    def get_salary(self):\n        pass",
      "metadata": {
        "trusted": true
      },
      "execution_count": 3,
      "outputs": []
    },
    {
      "cell_type": "markdown",
      "source": "The FulltimeEmployee class\nThe FulltimeEmployee class inherits from the Employee class. It’ll provide the implementation for the get_salary() method.\n\nSince full-time employees get fixed salaries, you can initialize the salary in the constructor of the class.\n\nThe following illustrates the FulltimeEmployee class:",
      "metadata": {}
    },
    {
      "cell_type": "code",
      "source": "class FulltimeEmployee(Employee):\n    def __init__(self, first_name, last_name, salary):\n        super().__init__(first_name, last_name)\n        self.salary = salary\n\n    def get_salary(self):\n        return self.salary",
      "metadata": {
        "trusted": true
      },
      "execution_count": 4,
      "outputs": []
    },
    {
      "cell_type": "markdown",
      "source": "The HourlyEmployee class\nThe HourlyEmployee also inherits from the Employee class. However, hourly employees get paid by working hours and their rates. Therefore, you can initialize this information in the constructor of the class.\n\nTo calculate the salary for the hourly employees, you multiply the working hours and rates.\n\nThe following shows the HourlyEmployee class:",
      "metadata": {}
    },
    {
      "cell_type": "code",
      "source": "class HourlyEmployee(Employee):\n    def __init__(self, first_name, last_name, worked_hours, rate):\n        super().__init__(first_name, last_name)\n        self.worked_hours = worked_hours\n        self.rate = rate\n\n    def get_salary(self):\n        return self.worked_hours * self.rate",
      "metadata": {
        "trusted": true
      },
      "execution_count": 5,
      "outputs": []
    },
    {
      "cell_type": "markdown",
      "source": "The Payroll class\nThe Payroll class will have a method that adds an employee to the employee list and print out the payroll.\n\nSince fulltime and hourly employees share the same interfaces (full_time property and get_salary() method). Therefore, the Payroll class doesn’t need to distinguish them.\n\nThe following shows the Payroll class:",
      "metadata": {}
    },
    {
      "cell_type": "code",
      "source": "class Payroll:\n    def __init__(self):\n        self.employee_list = []\n\n    def add(self, employee):\n        self.employee_list.append(employee)\n\n    def print(self):\n        for e in self.employee_list:\n            print(f\"{e.full_name} \\t ${e.get_salary()}\")",
      "metadata": {
        "trusted": true
      },
      "execution_count": 6,
      "outputs": []
    },
    {
      "cell_type": "markdown",
      "source": "The main program\nThe following app.py uses the FulltimeEmployee, HourlyEmployee, and Payroll classes to print out the payroll of five employees.",
      "metadata": {}
    },
    {
      "cell_type": "code",
      "source": "from fulltimeemployee import FulltimeEmployee\nfrom hourlyemployee import HourlyEmployee\nfrom payroll import Payroll\n\npayroll = Payroll()\n\npayroll.add(FulltimeEmployee('John', 'Doe', 6000))\npayroll.add(FulltimeEmployee('Jane', 'Doe', 6500))\npayroll.add(HourlyEmployee('Jenifer', 'Smith', 200, 50))\npayroll.add(HourlyEmployee('David', 'Wilson', 150, 100))\npayroll.add(HourlyEmployee('Kevin', 'Miller', 100, 150))\n\npayroll.print()",
      "metadata": {},
      "execution_count": null,
      "outputs": []
    }
  ]
}